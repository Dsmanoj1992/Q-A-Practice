{
 "cells": [
  {
   "cell_type": "markdown",
   "id": "9b65b18d",
   "metadata": {},
   "source": [
    "# Q1.Create a dictionary called fruits with the following key-value pairs: \"apple\": 0.75 \"banana\": 1.25 \"orange\": 0.90 Then, print out the price of a banana."
   ]
  },
  {
   "cell_type": "code",
   "execution_count": 2,
   "id": "589aba5d",
   "metadata": {},
   "outputs": [
    {
     "name": "stdout",
     "output_type": "stream",
     "text": [
      "1.25\n"
     ]
    }
   ],
   "source": [
    "fruits = {\n",
    "    \"apple\" : 0.75,\n",
    "    \"banana\" : 1.25,\n",
    "    \"orange\" : 0.90\n",
    "}\n",
    "\n",
    "print((fruits[\"banana\"]))"
   ]
  },
  {
   "cell_type": "markdown",
   "id": "53041d69",
   "metadata": {},
   "source": [
    "# Q2.Create an empty dictionary called ages. Add the following key-value pairs to the dictionary: \"Alice\": 30 \"Bob\": 25 \"Charlie\": 35 Then, print out the age of Charlie."
   ]
  },
  {
   "cell_type": "code",
   "execution_count": 3,
   "id": "ccb81982",
   "metadata": {},
   "outputs": [
    {
     "name": "stdout",
     "output_type": "stream",
     "text": [
      "35\n"
     ]
    }
   ],
   "source": [
    "ages = {}\n",
    "\n",
    "ages[\"Alice\"] = 30\n",
    "ages[\"Bob\"] = 25\n",
    "ages[\"Charlie\"] = 35\n",
    "\n",
    "print(ages[\"Charlie\"])"
   ]
  },
  {
   "cell_type": "markdown",
   "id": "8af0853b",
   "metadata": {},
   "source": [
    "# Q3.Write a function called word_count(text) that takes a string as input and returns a dictionary where each key is a word in the text and its value is the number of times that word appears in the text. For example, word_count(\"hello world hello\") should return {\"hello\": 2, \"world\": 1}."
   ]
  },
  {
   "cell_type": "code",
   "execution_count": 4,
   "id": "19f98139",
   "metadata": {},
   "outputs": [
    {
     "name": "stdout",
     "output_type": "stream",
     "text": [
      "{'hello': 2, 'world': 1}\n"
     ]
    }
   ],
   "source": [
    "def word_count(text):\n",
    "    words = text.lower().split()\n",
    "    counts = {}\n",
    "    for word in words:\n",
    "        if word in counts:\n",
    "            counts[word] += 1\n",
    "        else:\n",
    "            counts[word] = 1\n",
    "    return counts\n",
    "text = \"Hello world Hello\"\n",
    "counts = word_count(text)\n",
    "print(counts)"
   ]
  },
  {
   "cell_type": "markdown",
   "id": "63e1d045",
   "metadata": {},
   "source": [
    "# Q4.Create a dictionary called phone_book with the following key-value pairs: \"Alice\": \"555-1234\" \"Bob\": \"555-5678\" \"Charlie\": \"555-9012\" Then, prompt the user to enter a name and print out the corresponding phone number. If the name is not in the phone book, print out a message saying that the name was not found."
   ]
  },
  {
   "cell_type": "code",
   "execution_count": 7,
   "id": "95a44c34",
   "metadata": {},
   "outputs": [
    {
     "name": "stdout",
     "output_type": "stream",
     "text": [
      "Enter a name to lookup in the phone book: Manoj\n",
      "Manoj was not found in the phone book.\n"
     ]
    }
   ],
   "source": [
    "phone_book = {\n",
    "    \"Alice\": \"555-1234\",\n",
    "    \"Bob\": \"555-5678\",\n",
    "    \"Charlie\": \"555-9012\"\n",
    "}\n",
    "\n",
    "name = input(\"Enter a name to lookup in the phone book: \")\n",
    "\n",
    "if name in phone_book:\n",
    "    phone_number = phone_book[name]\n",
    "    print(f\"{name}'s phone number is {phone_number}.\")\n",
    "else:\n",
    "    print(f\"{name} was not found in the phone book.\")"
   ]
  },
  {
   "cell_type": "markdown",
   "id": "f644c7ae",
   "metadata": {},
   "source": [
    "# Write a program that prompts the user to enter a number between 1 and 10. If the number is less than 5, print out \"Too low!\", otherwise print out \"Too high!\"."
   ]
  },
  {
   "cell_type": "code",
   "execution_count": 8,
   "id": "c249641c",
   "metadata": {},
   "outputs": [
    {
     "name": "stdout",
     "output_type": "stream",
     "text": [
      "Enter a number between 1 and 10: 15\n",
      "Too high!\n"
     ]
    }
   ],
   "source": [
    "number = int(input(\"Enter a number between 1 and 10: \"))\n",
    "\n",
    "if number < 5:\n",
    "    print(\"Too low\")\n",
    "else:\n",
    "    print(\"Too high!\")"
   ]
  },
  {
   "cell_type": "markdown",
   "id": "5cf24ff7",
   "metadata": {},
   "source": [
    "# Q6.Write a program that prompts the user to enter a password. If the password is \"password123\", print out \"Access granted\", otherwise print out \"Access denied\"."
   ]
  },
  {
   "cell_type": "code",
   "execution_count": 10,
   "id": "daaf53a2",
   "metadata": {},
   "outputs": [
    {
     "name": "stdout",
     "output_type": "stream",
     "text": [
      "Enter a password: sghfk123\n",
      "Access denied\n"
     ]
    }
   ],
   "source": [
    "password = input(\"Enter a password: \")\n",
    "\n",
    "if password == \"password123\":\n",
    "    print(\"Access granted\")\n",
    "else:\n",
    "    print(\"Access denied\")"
   ]
  },
  {
   "cell_type": "markdown",
   "id": "b3630472",
   "metadata": {},
   "source": [
    "# Q7.Write a program that prompts the user to enter a positive integer. Then, use a loop to print out all the odd numbers from 1 to that integer."
   ]
  },
  {
   "cell_type": "code",
   "execution_count": 11,
   "id": "05fad1a1",
   "metadata": {},
   "outputs": [
    {
     "name": "stdout",
     "output_type": "stream",
     "text": [
      "Enter a psitive integer: 16\n",
      "1\n",
      "3\n",
      "5\n",
      "7\n",
      "9\n",
      "11\n",
      "13\n",
      "15\n"
     ]
    }
   ],
   "source": [
    "num = int(input(\"Enter a psitive integer: \"))\n",
    "\n",
    "for i in range(1, num+1, 2):\n",
    "    print(i)"
   ]
  },
  {
   "cell_type": "code",
   "execution_count": 12,
   "id": "a3da74e9",
   "metadata": {},
   "outputs": [
    {
     "name": "stdout",
     "output_type": "stream",
     "text": [
      "Enter a positive integer: 17\n",
      "1\n",
      "3\n",
      "5\n",
      "7\n",
      "9\n",
      "11\n",
      "13\n",
      "15\n",
      "17\n"
     ]
    }
   ],
   "source": [
    "num = int(input(\"Enter a positive integer: \"))\n",
    "\n",
    "i = 1\n",
    "\n",
    "while i <= num:\n",
    "    print(i)\n",
    "    i += 2"
   ]
  },
  {
   "cell_type": "markdown",
   "id": "3c019e58",
   "metadata": {},
   "source": [
    "# Q8.Write a program that generates a random number between 1 and 100 and then prompts the user to guess the number. If the user's guess is too low, print out \"Too low!\", if the guess is too high, print out \"Too high!\", and if the guess is correct, print out \"You win!\"."
   ]
  },
  {
   "cell_type": "code",
   "execution_count": 1,
   "id": "57a553d1",
   "metadata": {
    "scrolled": true
   },
   "outputs": [
    {
     "name": "stdout",
     "output_type": "stream",
     "text": [
      "Guess the number beween 1 and 100: 50\n",
      "Too low!\n",
      "Guess again 60\n",
      "Too low!\n",
      "Guess again 100\n",
      "Too high!\n",
      "Guess again 80\n",
      "Too low!\n",
      "Guess again 99\n",
      "Too high!\n",
      "Guess again 98\n",
      "Too high!\n",
      "Guess again 97\n",
      "Too high!\n",
      "Guess again 90\n",
      "Too high!\n",
      "Guess again 81\n",
      "Too low!\n",
      "Guess again 89\n",
      "Too high!\n",
      "Guess again 82\n",
      "Too low!\n",
      "Guess again 88\n",
      "Too high!\n",
      "Guess again 83\n",
      "Too low!\n",
      "Guess again 87\n",
      "Too high!\n",
      "Guess again 84\n",
      "Too low!\n",
      "Guess again 86\n",
      "You win! \n"
     ]
    }
   ],
   "source": [
    "import random\n",
    "\n",
    "secret_number = random.randint(1, 100)\n",
    "\n",
    "guess = int(input(\"Guess the number beween 1 and 100: \"))\n",
    "\n",
    "while guess != secret_number:\n",
    "    if guess < secret_number:\n",
    "        print(\"Too low!\")\n",
    "    else:\n",
    "        print(\"Too high!\")\n",
    "    guess = int(input(\"Guess again \"))\n",
    "print(\"You win! \")"
   ]
  },
  {
   "cell_type": "markdown",
   "id": "3d4ca117",
   "metadata": {},
   "source": [
    "# Q9.Write a program that generates a random number between 1 and 10 and then prompts the user to guess the number. The user has three attempts to guess the number. If the user guesses correctly within three attempts, print out \"You win!\", otherwise print out \"You lose!\"."
   ]
  },
  {
   "cell_type": "code",
   "execution_count": 2,
   "id": "dd3871ef",
   "metadata": {},
   "outputs": [
    {
     "name": "stdout",
     "output_type": "stream",
     "text": [
      "Guess the number between 1 and 10: 28\n",
      "Too high!\n",
      "Guess the number between 1 and 10: 20\n",
      "Too high!\n",
      "Guess the number between 1 and 10: 10\n",
      "Too high!\n",
      "You lose!\n"
     ]
    }
   ],
   "source": [
    "import random\n",
    "\n",
    "# generate a random number between 1 and 10\n",
    "secret_number = random.randint(1, 10)\n",
    "\n",
    "# set number of attempts to 3\n",
    "attempts = 3\n",
    "\n",
    "# prompt user to guess the number\n",
    "while attempts > 0:\n",
    "    guess = int(input(\"Guess the number between 1 and 10: \"))\n",
    "    if guess == secret_number:\n",
    "        print(\"You win!\")\n",
    "        break\n",
    "    elif guess < secret_number:\n",
    "        print(\"Too low!\")\n",
    "    else:\n",
    "        print(\"Too high!\")\n",
    "    attempts -= 1\n",
    "\n",
    "# check if user used up all three attempts and lost\n",
    "if attempts == 0:\n",
    "    print(\"You lose!\")"
   ]
  },
  {
   "cell_type": "markdown",
   "id": "bac7a0f5",
   "metadata": {},
   "source": [
    "# Q10.Write a program that prompts the user to enter their age and then prints out whether they are a child (age 0-12), a teenager (age 13-19), an adult (age 20-59), or a senior (age 60+)"
   ]
  },
  {
   "cell_type": "code",
   "execution_count": 3,
   "id": "4a16604d",
   "metadata": {},
   "outputs": [
    {
     "name": "stdout",
     "output_type": "stream",
     "text": [
      "Enter your age: 20\n",
      "You are an adult.\n"
     ]
    }
   ],
   "source": [
    "# prompt user to enter their age\n",
    "age = int(input(\"Enter your age: \"))\n",
    "\n",
    "# check if age falls into child, teenager, adult, or senior category\n",
    "if age <= 12:\n",
    "    print(\"You are a child.\")\n",
    "elif age <= 19:\n",
    "    print(\"You are a teenager.\")\n",
    "elif age <= 59:\n",
    "    print(\"You are an adult.\")\n",
    "else:\n",
    "    print(\"You are a senior.\")"
   ]
  },
  {
   "cell_type": "code",
   "execution_count": null,
   "id": "806067f9",
   "metadata": {},
   "outputs": [],
   "source": []
  }
 ],
 "metadata": {
  "kernelspec": {
   "display_name": "Python 3 (ipykernel)",
   "language": "python",
   "name": "python3"
  },
  "language_info": {
   "codemirror_mode": {
    "name": "ipython",
    "version": 3
   },
   "file_extension": ".py",
   "mimetype": "text/x-python",
   "name": "python",
   "nbconvert_exporter": "python",
   "pygments_lexer": "ipython3",
   "version": "3.10.4"
  }
 },
 "nbformat": 4,
 "nbformat_minor": 5
}
