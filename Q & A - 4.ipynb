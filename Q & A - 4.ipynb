{
 "cells": [
  {
   "cell_type": "markdown",
   "id": "30bd4e52",
   "metadata": {},
   "source": [
    "# Q1.Create a class called \"Person\" with properties for \"name\", \"age\", and \"gender\". Create an object of this class and print out its properties."
   ]
  },
  {
   "cell_type": "code",
   "execution_count": 3,
   "id": "824cc8bf",
   "metadata": {},
   "outputs": [
    {
     "name": "stdout",
     "output_type": "stream",
     "text": [
      "Name: John Deo\n",
      "Age: 30\n",
      "Gender: male\n"
     ]
    }
   ],
   "source": [
    "class Person:\n",
    "    def __init__(self,name,age,gender):\n",
    "        self.name = name\n",
    "        self.age = age\n",
    "        self.gender = gender\n",
    "        \n",
    "        \n",
    "Person1 = Person(\"John Deo\", 30, \"male\")\n",
    "\n",
    "print(\"Name:\",Person1.name)\n",
    "print(\"Age:\",Person1.age)\n",
    "print(\"Gender:\", Person1.gender)"
   ]
  },
  {
   "cell_type": "markdown",
   "id": "7ac4846b",
   "metadata": {},
   "source": [
    "# Q2. Write a Python class called \"Rectangle\" with attributes for \"width\" and \"height\". Implement methods to calculate the area and perimeter of the rectangle. Create an instance of this class and use it to print out the rectangle's area and perimeter."
   ]
  },
  {
   "cell_type": "code",
   "execution_count": 1,
   "id": "0b3f648e",
   "metadata": {},
   "outputs": [
    {
     "name": "stdout",
     "output_type": "stream",
     "text": [
      "Area: 50\n",
      "Perimeter: 30\n"
     ]
    }
   ],
   "source": [
    "class Rectangle:\n",
    "    def __init__(self, width, height):\n",
    "        self.width = width\n",
    "        self.height = height\n",
    "        \n",
    "    def area (self):\n",
    "        return self.width * self.height\n",
    "    \n",
    "    def perimeter(self):\n",
    "        return 2 * (self.width + self.height)\n",
    "    \n",
    "rect1 = Rectangle(5, 10)\n",
    "\n",
    "print(\"Area:\", rect1.area())\n",
    "print(\"Perimeter:\", rect1.perimeter())"
   ]
  },
  {
   "cell_type": "markdown",
   "id": "fe272365",
   "metadata": {},
   "source": [
    "# Q3. Write a Python class called \"BankAccount\" with attributes for \"balance\" and \"interest_rate\". Implement methods to deposit and withdraw money from the account, as well as to calculate the interest earned on the balance based on the interest rate. Create an instance of this class and use it to test out the implemented methods for deposit, withdrawal, and interest calculation"
   ]
  },
  {
   "cell_type": "code",
   "execution_count": 2,
   "id": "41871096",
   "metadata": {},
   "outputs": [
    {
     "name": "stdout",
     "output_type": "stream",
     "text": [
      "Balance: 1300\n",
      "Interest earned: 19.5\n"
     ]
    }
   ],
   "source": [
    "class BankAccount:\n",
    "    def __init__(self, balance, interest_rate):\n",
    "        self.balance = balance\n",
    "        self.interest_rate = interest_rate\n",
    "        \n",
    "    def deposit(self, amount):\n",
    "        self.balance += amount\n",
    "        \n",
    "    def withdraw(self, amount):\n",
    "        self.balance -= amount\n",
    "        \n",
    "    def calculate_interest(self):\n",
    "        return self.balance * self.interest_rate / 100\n",
    "\n",
    "account1 = BankAccount(1000, 1.5)\n",
    "\n",
    "account1.deposit(500)\n",
    "account1.withdraw(200)\n",
    "\n",
    "interest_earned = account1.calculate_interest()\n",
    "\n",
    "print(\"Balance:\", account1.balance)\n",
    "print(\"Interest earned:\", interest_earned)"
   ]
  },
  {
   "cell_type": "markdown",
   "id": "12aa358d",
   "metadata": {},
   "source": [
    "# Q4. Write a Python class called \"Animal\" with attributes for \"name\" and \"species\". Create a subclass of \"Animal\" called \"Dog\" with additional attributes for \"breed\" and \"owner\". Implement both classes with appropriate methods and constructors to initialise their properties. Create instances of both classes and use them to print out the various properties of the animals and dogs, such as their names, species, breeds, and owners."
   ]
  },
  {
   "cell_type": "code",
   "execution_count": 2,
   "id": "31a07255",
   "metadata": {},
   "outputs": [
    {
     "name": "stdout",
     "output_type": "stream",
     "text": [
      "Animal name: Tiger\n",
      "Animal species: Feline\n",
      "Dog name: Max\n",
      "Dog species: Canine\n",
      "Dog breed: labrador Retriver\n",
      "Dog owner: john\n"
     ]
    }
   ],
   "source": [
    "class Animal:\n",
    "    def __init__(self,name,species):\n",
    "        self.name = name\n",
    "        self.species = species\n",
    "        \n",
    "class Dog(Animal):\n",
    "    def __init__(self, name, species, breed, owner):\n",
    "        super().__init__(name, species)\n",
    "        self.breed = breed\n",
    "        self.owner = owner\n",
    "        \n",
    "animal1 = Animal(\"Tiger\", \"Feline\")\n",
    "\n",
    "dog1 = Dog(\"Max\" , \"Canine\" , \"labrador Retriver\" , \"john\")\n",
    "\n",
    "print(\"Animal name:\" , animal1.name)\n",
    "print(\"Animal species:\", animal1.species)\n",
    "print(\"Dog name:\", dog1.name)\n",
    "print(\"Dog species:\", dog1.species)\n",
    "print(\"Dog breed:\", dog1.breed)\n",
    "print(\"Dog owner:\", dog1.owner)"
   ]
  },
  {
   "cell_type": "markdown",
   "id": "3c3549f2",
   "metadata": {},
   "source": [
    "# Q5.Create a class called \"Car\" with properties for \"make\", \"model\", and \"year\". Create a subclass of \"Car\" called \"ElectricCar\" with additional properties for \"battery_size\" and \"range\". Create objects of both classes and print out their properties."
   ]
  },
  {
   "cell_type": "code",
   "execution_count": 4,
   "id": "1191ccd2",
   "metadata": {},
   "outputs": [
    {
     "name": "stdout",
     "output_type": "stream",
     "text": [
      "Car make: Toyota\n",
      "Car modle: camry\n",
      "Car year: 2019\n",
      "Electric car make: Tesla\n",
      "Electric car model: Modal 3\n",
      "Electric car year: 2021\n",
      "Electric car battery size: 75\n",
      "Electric car range: 263\n"
     ]
    }
   ],
   "source": [
    "class Car:\n",
    "    def __init__(self, make, model, year):\n",
    "        self.make = make\n",
    "        self.model = model\n",
    "        self.year = year\n",
    "        \n",
    "class ElectricalCar(Car):\n",
    "    def __init__(self , make, model, year, battery_size, range):\n",
    "        super().__init__(make, model, year)\n",
    "        self.battery_size = battery_size\n",
    "        self.range = range\n",
    "        \n",
    "car1 = Car(\"Toyota\", \"camry\", 2019)\n",
    "\n",
    "electric_car1 = ElectricalCar(\"Tesla\", \"Modal 3\", 2021 , 75, 263)\n",
    "\n",
    "print(\"Car make:\", car1.make)\n",
    "print(\"Car modle:\", car1.model)\n",
    "print(\"Car year:\", car1.year)\n",
    "\n",
    "print(\"Electric car make:\", electric_car1.make)\n",
    "print(\"Electric car model:\", electric_car1.model)\n",
    "print(\"Electric car year:\", electric_car1.year)\n",
    "print(\"Electric car battery size:\", electric_car1.battery_size)\n",
    "print(\"Electric car range:\", electric_car1.range)"
   ]
  },
  {
   "cell_type": "markdown",
   "id": "270ba6a3",
   "metadata": {},
   "source": [
    "# Q6.Create a class called \"Student\" with properties for \"name\" and \"id\". Create a subclass of \"Student\" called \"GraduateStudent\" with additional properties for \"advisor\" and \"research_area\". Create objects of both classes and print out their properties."
   ]
  },
  {
   "cell_type": "code",
   "execution_count": 5,
   "id": "65abbacb",
   "metadata": {},
   "outputs": [
    {
     "name": "stdout",
     "output_type": "stream",
     "text": [
      "Student name: John Deo:\n",
      "Student id: 12345\n",
      "Graduate student name: Jane Smith\n",
      "Graduate student id: 67890\n",
      "Graduate student advisor: Dr Johonson\n",
      "Graduate student research: Computer Science\n"
     ]
    }
   ],
   "source": [
    "class Student:\n",
    "    def __init__(self, name, id):\n",
    "        self.name = name\n",
    "        self.id = id\n",
    "        \n",
    "class GraduateStudent(Student):\n",
    "    def __init__(self, name, id, advisor, research_area):\n",
    "        super().__init__(name,id)\n",
    "        self.advisor = advisor\n",
    "        self.research_area = research_area\n",
    "        \n",
    "        \n",
    "student1 = Student(\"John Deo:\", 12345)\n",
    "\n",
    "grad_student1 = GraduateStudent(\"Jane Smith\", 67890, \"Dr Johonson\", \"Computer Science\")\n",
    "\n",
    "\n",
    "print(\"Student name:\", student1.name)\n",
    "print(\"Student id:\", student1.id)\n",
    "\n",
    "print(\"Graduate student name:\", grad_student1.name)\n",
    "print(\"Graduate student id:\", grad_student1.id)\n",
    "print(\"Graduate student advisor:\", grad_student1.advisor)\n",
    "print(\"Graduate student research:\", grad_student1.research_area)"
   ]
  },
  {
   "cell_type": "markdown",
   "id": "303a0524",
   "metadata": {},
   "source": [
    "# Q7. Create a class called \"Shape\" with methods to calculate the area and perimeter of the shape. Create subclasses of \"Shape\" for \"Rectangle\", \"Circle\", and \"Triangle\" with their own methods for calculating area and perimeter. Create objects of each class and print out their area and perimeter."
   ]
  },
  {
   "cell_type": "code",
   "execution_count": 6,
   "id": "7c94c727",
   "metadata": {},
   "outputs": [
    {
     "name": "stdout",
     "output_type": "stream",
     "text": [
      "Rectangle area: 8\n",
      "Rectangle perimeter: 16\n",
      "Circle area: 100.53096491487338\n",
      "Circle area perimeter: 25.132741228718345\n",
      "Triangle area: 6.0\n",
      "Triangle perimeter: 12\n"
     ]
    }
   ],
   "source": [
    "import math\n",
    "\n",
    "class Shape:\n",
    "    def calculate_area(self):\n",
    "        pass\n",
    "    def calculate_perimeter(self):\n",
    "        pass\n",
    "    \n",
    "class Rectangle(Shape):\n",
    "    def __init__(self, width, height):\n",
    "        self.width = width\n",
    "        self.height = height\n",
    "        \n",
    "    def calculate_area(self):\n",
    "        return self.width + self.height\n",
    "        \n",
    "    def calculate_perimeter(self):\n",
    "        return 2 * (self.width + self.height)\n",
    "    \n",
    "class Circle(Shape):\n",
    "    def __init__(self, radius):\n",
    "        self.radius = radius\n",
    "    \n",
    "    def calculate_area(self):\n",
    "        return 2 * math.pi * self.radius ** 2\n",
    "    \n",
    "    def calculate_perimeter(self):\n",
    "        return 2 * math.pi * self.radius\n",
    "    \n",
    "class Triangle(Shape):\n",
    "    def __init__(self,a,b,c):\n",
    "        self.a = a\n",
    "        self.b = b\n",
    "        self.c = c\n",
    "        \n",
    "    def calculate_area(self):\n",
    "        s = (self.a + self.b + self.c) / 2\n",
    "        return math.sqrt(s * (s - self.a) * (s - self.b) * (s - self.c))\n",
    "    \n",
    "    def calculate_perimeter(self):\n",
    "        return self.a + self.b + self.c\n",
    "    \n",
    "rectangle = Rectangle(5, 3)\n",
    "print(\"Rectangle area:\", rectangle.calculate_area())\n",
    "print(\"Rectangle perimeter:\", rectangle.calculate_perimeter())\n",
    "\n",
    "circle = Circle(4)\n",
    "print(\"Circle area:\", circle.calculate_area())\n",
    "print(\"Circle area perimeter:\", circle.calculate_perimeter())\n",
    "\n",
    "triangle = Triangle(3, 4, 5)\n",
    "print(\"Triangle area:\", triangle.calculate_area())\n",
    "print(\"Triangle perimeter:\", triangle.calculate_perimeter())"
   ]
  },
  {
   "cell_type": "markdown",
   "id": "cb94896b",
   "metadata": {},
   "source": [
    "# Q8.Create a class called \"Employee\" with properties for \"name\", \"id\", and \"salary\". Add methods to give the employee a raise and to calculate their annual salary. Create objects of this class and test out the methods."
   ]
  },
  {
   "cell_type": "code",
   "execution_count": 7,
   "id": "5cb092e8",
   "metadata": {},
   "outputs": [
    {
     "name": "stdout",
     "output_type": "stream",
     "text": [
      "Initial salary: 50000\n",
      "New salary: 51000\n",
      "Annual salary: 612000\n"
     ]
    }
   ],
   "source": [
    "class Employee:\n",
    "    def __init__(self, name, id, salary):\n",
    "        self.name = name\n",
    "        self.id = id\n",
    "        self.salary = salary\n",
    "        \n",
    "    def give_raise(self, amount):\n",
    "        self.salary += amount\n",
    "        \n",
    "    def annual_salary(self):\n",
    "        return self.salary * 12\n",
    "    \n",
    "employee1 = Employee(\"John Deo\", 12345, 50000)\n",
    "\n",
    "print(\"Initial salary:\", employee1.salary)\n",
    "\n",
    "employee1.give_raise(1000)\n",
    "\n",
    "print(\"New salary:\", employee1.salary)\n",
    "print(\"Annual salary:\", employee1.annual_salary())"
   ]
  },
  {
   "cell_type": "markdown",
   "id": "d3907881",
   "metadata": {},
   "source": [
    "# Q9.Create a class called \"Book\" with properties for \"title\", \"author\", and \"publisher\". Create a subclass of \"Book\" called \"Ebook\" with additional properties for \"file_format\" and \"file_size\". Create objects of both classes and print out their properties."
   ]
  },
  {
   "cell_type": "code",
   "execution_count": 8,
   "id": "0c801570",
   "metadata": {},
   "outputs": [
    {
     "name": "stdout",
     "output_type": "stream",
     "text": [
      "Book title: To Kill a Mockingbird\n",
      "Book author: Harper Lee\n",
      "Book publisher: J. B. Lippincott & Co.\n",
      "Ebook title: The Hunger Games\n",
      "Ebook author: Suzanne Collins\n",
      "Ebook publisher: Scholastic Corporation\n",
      "Ebook file format: PDF\n",
      "Ebook file size: 2.5 MB\n"
     ]
    }
   ],
   "source": [
    "class Book:\n",
    "    def __init__(self, title, author, publisher):\n",
    "        self.title = title\n",
    "        self.author = author\n",
    "        self.publisher = publisher\n",
    "        \n",
    "class Ebook(Book):\n",
    "    def __init__(self, title, author, publisher, file_format, file_size):\n",
    "        super().__init__(title, author, publisher)\n",
    "        self.file_format = file_format\n",
    "        self.file_size = file_size\n",
    "\n",
    "# Create an object of the Book class\n",
    "book1 = Book(\"To Kill a Mockingbird\", \"Harper Lee\", \"J. B. Lippincott & Co.\")\n",
    "\n",
    "# Create an object of the Ebook class\n",
    "ebook1 = Ebook(\"The Hunger Games\", \"Suzanne Collins\", \"Scholastic Corporation\", \"PDF\", \"2.5 MB\")\n",
    "\n",
    "# Print out the properties of book1\n",
    "print(\"Book title:\", book1.title)\n",
    "print(\"Book author:\", book1.author)\n",
    "print(\"Book publisher:\", book1.publisher)\n",
    "\n",
    "# Print out the properties of ebook1\n",
    "print(\"Ebook title:\", ebook1.title)\n",
    "print(\"Ebook author:\", ebook1.author)\n",
    "print(\"Ebook publisher:\", ebook1.publisher)\n",
    "print(\"Ebook file format:\", ebook1.file_format)\n",
    "print(\"Ebook file size:\", ebook1.file_size)\n"
   ]
  },
  {
   "cell_type": "markdown",
   "id": "1158547f",
   "metadata": {},
   "source": [
    "# Q10.Create a class called \"Bank\" with properties for \"name\" and \"accounts\". Add methods to create new accounts, deposit and withdraw money from accounts, and to calculate the total balance of all accounts. Create an object of this class and test out the methods."
   ]
  },
  {
   "cell_type": "code",
   "execution_count": 12,
   "id": "b1bb6804",
   "metadata": {},
   "outputs": [
    {
     "name": "stdout",
     "output_type": "stream",
     "text": [
      "Account created successfully.\n",
      "Account created successfully.\n",
      "Deposit successful.\n",
      "Deposit successful.\n",
      "Withdrawal successful.\n",
      "Insufficient funds.\n",
      "Total balance: 1500\n"
     ]
    }
   ],
   "source": [
    "class Bank:\n",
    "    def __init__(self, name):\n",
    "        self.name = name\n",
    "        self.accounts = []\n",
    "\n",
    "    def create_account(self, account_number, initial_balance=0):\n",
    "        account = {\"account_number\": account_number, \"balance\": initial_balance}\n",
    "        self.accounts.append(account)\n",
    "        print(\"Account created successfully.\")\n",
    "\n",
    "    def deposit(self, account_number, amount):\n",
    "        for account in self.accounts:\n",
    "            if account[\"account_number\"] == account_number:\n",
    "                account[\"balance\"] += amount\n",
    "                print(\"Deposit successful.\")\n",
    "                return\n",
    "        print(\"Account not found.\")\n",
    "\n",
    "    def withdraw(self, account_number, amount):\n",
    "        for account in self.accounts:\n",
    "            if account[\"account_number\"] == account_number:\n",
    "                if account[\"balance\"] >= amount:\n",
    "                    account[\"balance\"] -= amount\n",
    "                    print(\"Withdrawal successful.\")\n",
    "                else:\n",
    "                    print(\"Insufficient funds.\")\n",
    "                return\n",
    "        print(\"Account not found.\")\n",
    "\n",
    "    def calculate_total_balance(self):\n",
    "        total_balance = 0\n",
    "        for account in self.accounts:\n",
    "            total_balance += account[\"balance\"]\n",
    "        return total_balance\n",
    "\n",
    "\n",
    "# Testing the Bank class\n",
    "my_bank = Bank(\"My Bank\")\n",
    "\n",
    "my_bank.create_account(\"12345\")  # Create an account with default initial balance\n",
    "my_bank.create_account(\"67890\", 1000)  # Create an account with initial balance of 1000\n",
    "\n",
    "my_bank.deposit(\"12345\", 500)  # Deposit 500 into the first account\n",
    "my_bank.deposit(\"67890\", 200)  # Deposit 200 into the second account\n",
    "\n",
    "my_bank.withdraw(\"12345\", 200)  # Withdraw 200 from the first account\n",
    "my_bank.withdraw(\"67890\", 1500)  # Withdraw 1500 from the second account (insufficient funds)\n",
    "\n",
    "total_balance = my_bank.calculate_total_balance()\n",
    "print(\"Total balance:\", total_balance)\n"
   ]
  },
  {
   "cell_type": "code",
   "execution_count": null,
   "id": "b91acc70",
   "metadata": {},
   "outputs": [],
   "source": []
  }
 ],
 "metadata": {
  "kernelspec": {
   "display_name": "Python 3 (ipykernel)",
   "language": "python",
   "name": "python3"
  },
  "language_info": {
   "codemirror_mode": {
    "name": "ipython",
    "version": 3
   },
   "file_extension": ".py",
   "mimetype": "text/x-python",
   "name": "python",
   "nbconvert_exporter": "python",
   "pygments_lexer": "ipython3",
   "version": "3.10.4"
  }
 },
 "nbformat": 4,
 "nbformat_minor": 5
}
