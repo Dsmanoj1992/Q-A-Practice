{
 "cells": [
  {
   "cell_type": "markdown",
   "id": "aa9efb88",
   "metadata": {},
   "source": [
    "Q1.Create a list in python using the followings: 2,3,4,5,6,7 with variable ‘a’ Add ‘mango to the above list Also add banana, grapes & orange in the list insert apple in the 5th position of a variable ‘a’ Remove last item from the list"
   ]
  },
  {
   "cell_type": "code",
   "execution_count": 1,
   "id": "fa71fcb6",
   "metadata": {},
   "outputs": [
    {
     "name": "stdout",
     "output_type": "stream",
     "text": [
      "[2, 3, 4, 5, 'apple', 6, 7, 'mango', 'banana', 'grapes']\n"
     ]
    }
   ],
   "source": [
    "a = [2,3,4,5,6,7]\n",
    "a.append('mango')\n",
    "a.extend(['banana','grapes','orange'])\n",
    "a.insert(4,'apple')\n",
    "a.pop()\n",
    "print(a)"
   ]
  },
  {
   "cell_type": "markdown",
   "id": "d677ee8f",
   "metadata": {},
   "source": [
    "Q2. L = [1,2,3,4,5,6,7] Using the above list slice from 1:4"
   ]
  },
  {
   "cell_type": "code",
   "execution_count": 2,
   "id": "d5764283",
   "metadata": {},
   "outputs": [
    {
     "name": "stdout",
     "output_type": "stream",
     "text": [
      "[2, 3, 4]\n"
     ]
    }
   ],
   "source": [
    "L =  [1,2,3,4,5,6,7] \n",
    "sliced_L = L[1:4]\n",
    "print(sliced_L)"
   ]
  },
  {
   "cell_type": "markdown",
   "id": "b2c55086",
   "metadata": {},
   "source": [
    "Q3.Reverse the order of given string L = [4,5,6,8,3]"
   ]
  },
  {
   "cell_type": "code",
   "execution_count": 3,
   "id": "97470d61",
   "metadata": {},
   "outputs": [
    {
     "name": "stdout",
     "output_type": "stream",
     "text": [
      "[3, 8, 6, 5, 4]\n"
     ]
    }
   ],
   "source": [
    "L = [4,5,6,8,3]\n",
    "L.reverse()\n",
    "print(L)"
   ]
  },
  {
   "cell_type": "markdown",
   "id": "142cb96c",
   "metadata": {},
   "source": [
    "Q4.Use list comprehension to square the given list L=[2,4,7,3,6,8]"
   ]
  },
  {
   "cell_type": "code",
   "execution_count": 4,
   "id": "88b2a683",
   "metadata": {},
   "outputs": [
    {
     "name": "stdout",
     "output_type": "stream",
     "text": [
      "[4, 16, 49, 9, 36, 64]\n"
     ]
    }
   ],
   "source": [
    "L = [2,4,7,3,6,8]\n",
    "squared_L = [x**2 for x in L]\n",
    "print(squared_L)"
   ]
  },
  {
   "cell_type": "markdown",
   "id": "266aac04",
   "metadata": {},
   "source": [
    "Q5.Create a function that takes in a tuple of integers and returns the sum of the integers. Test the function with a tuple of your choice."
   ]
  },
  {
   "cell_type": "code",
   "execution_count": 5,
   "id": "66d64f8e",
   "metadata": {},
   "outputs": [
    {
     "name": "stdout",
     "output_type": "stream",
     "text": [
      "24\n"
     ]
    }
   ],
   "source": [
    "def sum_tuple(t):\n",
    "    \"\"\"Takes a tuple of integers and returns the sum of its elements.\"\"\"\n",
    "    return sum(t)\n",
    "my_tuple = (2 , 5 , 7 , 10)\n",
    "print(sum_tuple(my_tuple))"
   ]
  },
  {
   "cell_type": "markdown",
   "id": "e5fc22bf",
   "metadata": {},
   "source": [
    "Q6.Create two sets of your favorite fruits, and use the union() method to combine them into a single set. Print the resulting set to the console."
   ]
  },
  {
   "cell_type": "code",
   "execution_count": 6,
   "id": "de3926da",
   "metadata": {},
   "outputs": [
    {
     "name": "stdout",
     "output_type": "stream",
     "text": [
      "{'kiwi', 'banana', 'apple', 'orange', 'pineapple', 'mango'}\n"
     ]
    }
   ],
   "source": [
    "set1 = {\"apple\",\"banana\",\"orange\"}\n",
    "set2 = {\"mango\",\"pineapple\",\"kiwi\"}\n",
    "combined_set = set1.union(set2)\n",
    "print(combined_set)"
   ]
  },
  {
   "cell_type": "markdown",
   "id": "37bd5749",
   "metadata": {},
   "source": [
    "Q7.Create a set of random words, and use the add() method to add a new word to the set. Print the resulting set to the console."
   ]
  },
  {
   "cell_type": "code",
   "execution_count": 7,
   "id": "ff31667b",
   "metadata": {},
   "outputs": [
    {
     "name": "stdout",
     "output_type": "stream",
     "text": [
      "{'cherrey', 'banana', 'apple', 'orange'}\n"
     ]
    }
   ],
   "source": [
    "my_set = {\"apple\",\"banana\",\"cherrey\"}\n",
    "my_set.add(\"orange\")\n",
    "print(my_set)"
   ]
  },
  {
   "cell_type": "markdown",
   "id": "df4c6363",
   "metadata": {},
   "source": [
    "Q8.Create a set of your favorite animals, and use the remove() method to remove one animal from the set. Print the resulting set to the console."
   ]
  },
  {
   "cell_type": "code",
   "execution_count": 10,
   "id": "d914af4a",
   "metadata": {},
   "outputs": [
    {
     "name": "stdout",
     "output_type": "stream",
     "text": [
      "{'lion', 'tiger', 'elephant'}\n"
     ]
    }
   ],
   "source": [
    "my_set = {\"lion\", \"tiger\", \"bear\", \"elephant\"}\n",
    "my_set.remove(\"bear\")\n",
    "print(my_set)"
   ]
  },
  {
   "cell_type": "markdown",
   "id": "142e73c2",
   "metadata": {},
   "source": [
    "Q9.favorite_books = {\"1984\", \"To Kill a Mockingbird\", \"Pride and Prejudice\"} favorite_movies = [\"The Shawshank Redemption\", \"The Godfather\", \"The Dark Knight\"] Use the zip() function to combine the book set and movie list into a list of tuples representing book/movie pairs. Print the resulting list.m"
   ]
  },
  {
   "cell_type": "code",
   "execution_count": 12,
   "id": "dba36b9c",
   "metadata": {},
   "outputs": [
    {
     "name": "stdout",
     "output_type": "stream",
     "text": [
      "[('1984', 'The Shawshank Redemption'), ('Pride and Prejudice', 'The Godfather'), ('To Kill a Mockingbird', 'The Dark Knight')]\n"
     ]
    }
   ],
   "source": [
    "favorite_books = {\"1984\", \"To Kill a Mockingbird\", \"Pride and Prejudice\"}\n",
    "favorite_movies = [\"The Shawshank Redemption\", \"The Godfather\", \"The Dark Knight\"]\n",
    "book_movie_pairs = list(zip(favorite_books,favorite_movies))\n",
    "print(book_movie_pairs)"
   ]
  },
  {
   "cell_type": "markdown",
   "id": "952cb0a3",
   "metadata": {},
   "source": [
    "Q10.Write a Python program to find the difference between consecutive numbers in a list."
   ]
  },
  {
   "cell_type": "code",
   "execution_count": 13,
   "id": "dedecca0",
   "metadata": {},
   "outputs": [
    {
     "name": "stdout",
     "output_type": "stream",
     "text": [
      "[2, 3, 6, 7]\n"
     ]
    }
   ],
   "source": [
    "def consecutive_difference(lst):\n",
    "    diff_lst = []\n",
    "    for i in range(len(lst)-1):\n",
    "        diff_lst.append(abs(lst[i]-lst[i+1]))\n",
    "    return diff_lst \n",
    "my_list = [3,5,2,8,1]\n",
    "diff_list = consecutive_difference(my_list)\n",
    "print(diff_list)"
   ]
  },
  {
   "cell_type": "code",
   "execution_count": null,
   "id": "54a4f20f",
   "metadata": {},
   "outputs": [],
   "source": []
  }
 ],
 "metadata": {
  "kernelspec": {
   "display_name": "Python 3 (ipykernel)",
   "language": "python",
   "name": "python3"
  },
  "language_info": {
   "codemirror_mode": {
    "name": "ipython",
    "version": 3
   },
   "file_extension": ".py",
   "mimetype": "text/x-python",
   "name": "python",
   "nbconvert_exporter": "python",
   "pygments_lexer": "ipython3",
   "version": "3.10.4"
  }
 },
 "nbformat": 4,
 "nbformat_minor": 5
}
